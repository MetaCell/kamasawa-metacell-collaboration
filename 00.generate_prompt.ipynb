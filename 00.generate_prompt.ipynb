{
 "cells": [
  {
   "cell_type": "markdown",
   "metadata": {},
   "source": [
    "## import and definition"
   ]
  },
  {
   "cell_type": "code",
   "execution_count": null,
   "metadata": {},
   "outputs": [],
   "source": [
    "import os\n",
    "\n",
    "import numpy as np\n",
    "import plotly.express as px\n",
    "import xarray as xr\n",
    "\n",
    "from routine.io import load_tif\n",
    "from routine.lm_processing import im_convex, prompt_neg, prompt_pos, threshold_zstack\n",
    "\n",
    "IN_LM_IM = \"./data/DFJ05_ROI2_crop_LM2x_zelongation_90slices.tif\"\n",
    "OUT_PATH = \"./output/lm_label\"\n",
    "FIG_PATH = \"./figs/lm_process\"\n",
    "PARAM_CLIP = (105, 225)\n",
    "PARAM_THRES_BLOCK = (3, 301, 301)\n",
    "PARAM_THRES_OFFSET = 10\n",
    "PARAM_DL_WND = (3, 50, 50)\n",
    "PARAM_NSAMP = 100\n",
    "\n",
    "os.makedirs(FIG_PATH, exist_ok=True)\n",
    "os.makedirs(OUT_PATH, exist_ok=True)"
   ]
  },
  {
   "cell_type": "markdown",
   "metadata": {},
   "source": [
    "## generate prompts"
   ]
  },
  {
   "cell_type": "code",
   "execution_count": null,
   "metadata": {},
   "outputs": [],
   "source": [
    "# %% load and threshold\n",
    "lm = load_tif(IN_LM_IM)\n",
    "lm_bin, prop_df = threshold_zstack(\n",
    "    lm,\n",
    "    clip=PARAM_CLIP,\n",
    "    block_size=PARAM_THRES_BLOCK,\n",
    "    method=\"mean\",\n",
    "    offset=PARAM_THRES_OFFSET,\n",
    ")\n",
    "\n",
    "# %% generate prompts\n",
    "lm_cvx = im_convex(lm_bin)\n",
    "lm_pos = prompt_pos(lm_cvx)\n",
    "lm_neg = prompt_neg(lm_cvx, PARAM_DL_WND)\n",
    "\n",
    "# %% plot prompt result\n",
    "lm_prompt = (lm_bin * 128 + lm_pos * 255 + lm_neg * 255).clip(0, 255)\n",
    "lm_plt = (\n",
    "    xr.concat(\n",
    "        [lm.assign_coords(typ=\"raw\"), lm_prompt.assign_coords(typ=\"prompt\")], dim=\"typ\"\n",
    "    )\n",
    "    .astype(np.uint8)\n",
    "    .coarsen({\"x\": 2, \"y\": 2})\n",
    "    .max()\n",
    ")\n",
    "fig = px.imshow(\n",
    "    lm_plt.transpose(\"y\", \"x\", \"z\", \"typ\"),\n",
    "    animation_frame=\"z\",\n",
    "    facet_col=\"typ\",\n",
    "    aspect=\"equal\",\n",
    "    binary_string=True,\n",
    ")\n",
    "fig.write_html(os.path.join(FIG_PATH, \"thresholding.html\"))\n",
    "\n",
    "# %% export result\n",
    "pos_df = lm_pos.to_dataframe(name=\"positive\")\n",
    "pos_df = pos_df[pos_df[\"positive\"]].reset_index()\n",
    "neg_df = lm_neg.to_dataframe(name=\"negative\")\n",
    "neg_df = neg_df[neg_df[\"negative\"]].reset_index()\n",
    "pos_df.groupby(\"z\").sample(PARAM_NSAMP, replace=True).drop_duplicates().to_csv(\n",
    "    os.path.join(OUT_PATH, \"pos.csv\"), index=False\n",
    ")\n",
    "neg_df.groupby(\"z\").sample(PARAM_NSAMP, replace=True).drop_duplicates().to_csv(\n",
    "    os.path.join(OUT_PATH, \"neg.csv\"), index=False\n",
    ")"
   ]
  }
 ],
 "metadata": {
  "kernelspec": {
   "display_name": "mpfi-em",
   "language": "python",
   "name": "python3"
  },
  "language_info": {
   "name": "python",
   "version": "3.12.3"
  }
 },
 "nbformat": 4,
 "nbformat_minor": 2
}
